{
 "cells": [
  {
   "cell_type": "code",
   "execution_count": 1,
   "id": "0e1905b5-2fcd-4c8d-a593-eb1e8e9f8024",
   "metadata": {},
   "outputs": [],
   "source": [
    "from transformers import AutoTokenizer, AutoModelForSequenceClassification\n",
    "import torch\n",
    "import pandas as pd\n",
    "from tabulate import tabulate"
   ]
  },
  {
   "cell_type": "code",
   "execution_count": 2,
   "id": "000b50ba-788f-4a29-8e58-bc3704b2252b",
   "metadata": {},
   "outputs": [],
   "source": [
    "base_model_name = \"AmaanP314/youtube-xlm-roberta-base-sentiment-multilingual\"\n",
    "finetuned_model_name = \"gajula21/youtube-sentiment-model-telugu\""
   ]
  },
  {
   "cell_type": "code",
   "execution_count": 3,
   "id": "acbdf805-fd7d-486c-a047-0e584524bd33",
   "metadata": {},
   "outputs": [],
   "source": [
    "base_tokenizer = AutoTokenizer.from_pretrained(base_model_name)\n",
    "base_model = AutoModelForSequenceClassification.from_pretrained(base_model_name)\n",
    "\n",
    "finetuned_tokenizer = AutoTokenizer.from_pretrained(finetuned_model_name)\n",
    "finetuned_model = AutoModelForSequenceClassification.from_pretrained(finetuned_model_name)"
   ]
  },
  {
   "cell_type": "code",
   "execution_count": 9,
   "id": "41591588-ab81-400b-b85b-b84f3b938b3e",
   "metadata": {},
   "outputs": [],
   "source": [
    "labels = {0: \"Negative\", 1: \"Neutral\", 2: \"Positive\"}\n",
    "\n",
    "comments_telugu = [\n",
    "    \"చాలా మంచి వీడియో! ఇన్ఫర్మేటివ్ గా ఉంది.\",  # Positive\n",
    "    \"సూపర్ కంటెంట్! ఇలాంటి వీడియోలు మరిన్ని చేయండి.\",  # Positive\n",
    "    \"మీరు చెప్పిన విధానం చాలా బాగుంది, అర్థం చేసుకోవడానికి సులభంగా ఉంది.\",  # Positive\n",
    "    \"నవ్వు తెప్పించింది ఈ వీడియో 😂\",  # Positive\n",
    "    \"సంగీతం అద్భుతంగా ఉంది!\",  # Positive\n",
    "    \"ధన్యవాదాలు.\",  # Neutral\n",
    "    \"ఓకే వీడియో.\",  # Neutral\n",
    "    \"నేను తర్వాత చూస్తాను.\",  # Neutral\n",
    "    \"ఇది ఎలా పని చేస్తుంది?\",  # Neutral\n",
    "    \"సమయం ఎంత పట్టింది?\",  # Neutral\n",
    "    \"ఇది చాలా నిదానంగా ఉంది.\",  # Negative\n",
    "    \"నాకు నచ్చలేదు.\",  # Negative\n",
    "    \"సౌండ్ సరిగా లేదు.\",  # Negative\n",
    "    \"చాలా తప్పులు ఉన్నాయి.\",  # Negative\n",
    "    \"ఇది సమయం వృధా.\",  # Negative\n",
    "    \"చెత్త వీడియో!\",  # Negative\n",
    "]\n",
    "\n",
    "comments_english = [\n",
    "    \"Absolutely loved this! Thanks for sharing.\",  # Positive\n",
    "    \"This is so helpful, I learned a lot.\",  # Positive\n",
    "    \"The editing is fantastic!\",  # Positive\n",
    "    \"Made my day! 😊\",  # Positive\n",
    "    \"Awesome content, keep it up!\",  # Positive\n",
    "    \"Thanks.\",  # Neutral\n",
    "    \"Interesting video.\",  # Neutral\n",
    "    \"I'll check this out later.\",  # Neutral\n",
    "    \"How long did this take to make?\",  # Neutral\n",
    "    \"What software did you use?\",  # Neutral\n",
    "    \"This was boring.\",  # Negative\n",
    "    \"The quality is really bad.\",  # Negative\n",
    "    \"I didn't understand anything.\",  # Negative\n",
    "    \"Too long and repetitive.\",  # Negative\n",
    "    \"Don't waste your time watching this.\",  # Negative\n",
    "    \"This is terrible!\",  # Negative\n",
    "    \"Why is it so laggy?\"  # Negative (implies a problem)\n",
    "]"
   ]
  },
  {
   "cell_type": "code",
   "execution_count": 10,
   "id": "14b98166-d490-4fc8-ad49-dd00b2b7d246",
   "metadata": {},
   "outputs": [],
   "source": [
    "def predict_sentiment(model, tokenizer, texts, label_map):\n",
    "    inputs = tokenizer(texts, return_tensors=\"pt\", padding=True, truncation=True)\n",
    "    with torch.no_grad():\n",
    "        outputs = model(**inputs)\n",
    "    preds = torch.argmax(outputs.logits, dim=1)\n",
    "    return [label_map[p.item()] for p in preds]"
   ]
  },
  {
   "cell_type": "code",
   "execution_count": 11,
   "id": "015e5068-f5d3-4ddd-b248-5b0614946e5a",
   "metadata": {},
   "outputs": [],
   "source": [
    "base_preds_telugu = predict_sentiment(base_model, base_tokenizer, comments_telugu, labels)\n",
    "finetuned_preds_telugu = predict_sentiment(finetuned_model, finetuned_tokenizer, comments_telugu, labels)\n",
    "\n",
    "base_preds_english = predict_sentiment(base_model, base_tokenizer, comments_english, labels)\n",
    "finetuned_preds_english = predict_sentiment(finetuned_model, finetuned_tokenizer, comments_english, labels)"
   ]
  },
  {
   "cell_type": "code",
   "execution_count": 12,
   "id": "8d98c67b-ec09-4fae-80f7-074123f7b2b5",
   "metadata": {},
   "outputs": [],
   "source": [
    "def build_comparison_df(comments, base_preds, finetuned_preds):\n",
    "    return pd.DataFrame({\n",
    "        \"Comment\": comments,\n",
    "        \"Base Model Prediction\": base_preds,\n",
    "        \"Fine-Tuned Model Prediction\": finetuned_preds\n",
    "    })\n",
    "\n",
    "df_telugu = build_comparison_df(comments_telugu, base_preds_telugu, finetuned_preds_telugu)\n",
    "df_english = build_comparison_df(comments_english, base_preds_english, finetuned_preds_english)"
   ]
  },
  {
   "cell_type": "code",
   "execution_count": null,
   "id": "21e7ae71-3cbb-4181-9eab-9ea428821891",
   "metadata": {},
   "outputs": [
    {
     "name": "stdout",
     "output_type": "stream",
     "text": [
      "\n",
      "Telugu Comments Sentiment Comparison:\n",
      "\n",
      "+------------------------------------------+-------------------------+-------------------------------+\n",
      "| Comment                                  | Base Model Prediction   | Fine-Tuned Model Prediction   |\n",
      "+==========================================+=========================+===============================+\n",
      "| చాలా మంచి వీడియో! ఇన్ఫర్మేటివ్ గా ఉంది.                 | Positive                | Positive                      |\n",
      "+------------------------------------------+-------------------------+-------------------------------+\n",
      "| సూపర్ కంటెంట్! ఇలాంటి వీడియోలు మరిన్ని చేయండి.              | Positive                | Positive                      |\n",
      "+------------------------------------------+-------------------------+-------------------------------+\n",
      "| మీరు చెప్పిన విధానం చాలా బాగుంది, అర్థం చేసుకోవడానికి సులభంగా ఉంది. | Positive                | Positive                      |\n",
      "+------------------------------------------+-------------------------+-------------------------------+\n",
      "| నవ్వు తెప్పించింది ఈ వీడియో 😂                       | Positive                | Positive                      |\n",
      "+------------------------------------------+-------------------------+-------------------------------+\n",
      "| సంగీతం అద్భుతంగా ఉంది!                            | Neutral                 | Positive                      |\n",
      "+------------------------------------------+-------------------------+-------------------------------+\n",
      "| ధన్యవాదాలు.                                  | Neutral                 | Neutral                       |\n",
      "+------------------------------------------+-------------------------+-------------------------------+\n",
      "| ఓకే వీడియో.                                  | Neutral                 | Negative                      |\n",
      "+------------------------------------------+-------------------------+-------------------------------+\n",
      "| నేను తర్వాత చూస్తాను.                            | Neutral                 | Neutral                       |\n",
      "+------------------------------------------+-------------------------+-------------------------------+\n",
      "| ఇది ఎలా పని చేస్తుంది?                           | Neutral                 | Neutral                       |\n",
      "+------------------------------------------+-------------------------+-------------------------------+\n",
      "| సమయం ఎంత పట్టింది?                             | Neutral                 | Neutral                       |\n",
      "+------------------------------------------+-------------------------+-------------------------------+\n",
      "| ఇది చాలా నిదానంగా ఉంది.                           | Negative                | Negative                      |\n",
      "+------------------------------------------+-------------------------+-------------------------------+\n",
      "| నాకు నచ్చలేదు.                                | Negative                | Negative                      |\n",
      "+------------------------------------------+-------------------------+-------------------------------+\n",
      "| సౌండ్ సరిగా లేదు.                               | Negative                | Negative                      |\n",
      "+------------------------------------------+-------------------------+-------------------------------+\n",
      "| చాలా తప్పులు ఉన్నాయి.                            | Negative                | Negative                      |\n",
      "+------------------------------------------+-------------------------+-------------------------------+\n",
      "| ఇది సమయం వృధా.                               | Neutral                 | Negative                      |\n",
      "+------------------------------------------+-------------------------+-------------------------------+\n",
      "| చెత్త వీడియో!                                 | Negative                | Negative                      |\n",
      "+------------------------------------------+-------------------------+-------------------------------+\n",
      "\n",
      "English Comments Sentiment Comparison:\n",
      "\n",
      "+--------------------------------------------+-------------------------+-------------------------------+\n",
      "| Comment                                    | Base Model Prediction   | Fine-Tuned Model Prediction   |\n",
      "+============================================+=========================+===============================+\n",
      "| Absolutely loved this! Thanks for sharing. | Positive                | Positive                      |\n",
      "+--------------------------------------------+-------------------------+-------------------------------+\n",
      "| This is so helpful, I learned a lot.       | Positive                | Positive                      |\n",
      "+--------------------------------------------+-------------------------+-------------------------------+\n",
      "| The editing is fantastic!                  | Positive                | Positive                      |\n",
      "+--------------------------------------------+-------------------------+-------------------------------+\n",
      "| Made my day! 😊                            | Positive                | Positive                      |\n",
      "+--------------------------------------------+-------------------------+-------------------------------+\n",
      "| Awesome content, keep it up!               | Positive                | Positive                      |\n",
      "+--------------------------------------------+-------------------------+-------------------------------+\n",
      "| Thanks.                                    | Positive                | Neutral                       |\n",
      "+--------------------------------------------+-------------------------+-------------------------------+\n",
      "| Interesting video.                         | Positive                | Neutral                       |\n",
      "+--------------------------------------------+-------------------------+-------------------------------+\n",
      "| I'll check this out later.                 | Neutral                 | Neutral                       |\n",
      "+--------------------------------------------+-------------------------+-------------------------------+\n",
      "| How long did this take to make?            | Neutral                 | Neutral                       |\n",
      "+--------------------------------------------+-------------------------+-------------------------------+\n",
      "| What software did you use?                 | Neutral                 | Neutral                       |\n",
      "+--------------------------------------------+-------------------------+-------------------------------+\n",
      "| This was boring.                           | Negative                | Negative                      |\n",
      "+--------------------------------------------+-------------------------+-------------------------------+\n",
      "| The quality is really bad.                 | Negative                | Negative                      |\n",
      "+--------------------------------------------+-------------------------+-------------------------------+\n",
      "| I didn't understand anything.              | Negative                | Neutral                       |\n",
      "+--------------------------------------------+-------------------------+-------------------------------+\n",
      "| Too long and repetitive.                   | Negative                | Negative                      |\n",
      "+--------------------------------------------+-------------------------+-------------------------------+\n",
      "| Don't waste your time watching this.       | Negative                | Negative                      |\n",
      "+--------------------------------------------+-------------------------+-------------------------------+\n",
      "| This is terrible!                          | Negative                | Negative                      |\n",
      "+--------------------------------------------+-------------------------+-------------------------------+\n",
      "| Why is it so laggy?                        | Negative                | Negative                      |\n",
      "+--------------------------------------------+-------------------------+-------------------------------+\n"
     ]
    }
   ],
   "source": [
    "print(\"\\nTelugu Comments Sentiment Comparison:\\n\")\n",
    "print(tabulate(df_telugu, headers='keys', tablefmt='grid', showindex=False))\n",
    "\n",
    "print(\"\\nEnglish Comments Sentiment Comparison:\\n\")\n",
    "print(tabulate(df_english, headers='keys', tablefmt='grid', showindex=False))"
   ]
  },
  {
   "cell_type": "code",
   "execution_count": null,
   "id": "cf7fa789-3f8b-425f-8568-e5c5725b9f5e",
   "metadata": {},
   "outputs": [],
   "source": []
  }
 ],
 "metadata": {
  "kernelspec": {
   "display_name": "Python 3",
   "language": "python",
   "name": "python3"
  },
  "language_info": {
   "codemirror_mode": {
    "name": "ipython",
    "version": 3
   },
   "file_extension": ".py",
   "mimetype": "text/x-python",
   "name": "python",
   "nbconvert_exporter": "python",
   "pygments_lexer": "ipython3",
   "version": "3.10.10"
  }
 },
 "nbformat": 4,
 "nbformat_minor": 5
}
